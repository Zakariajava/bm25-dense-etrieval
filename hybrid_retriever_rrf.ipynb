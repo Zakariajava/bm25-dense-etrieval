{
 "cells": [
  {
   "cell_type": "code",
   "execution_count": null,
   "id": "af488600",
   "metadata": {},
   "outputs": [],
   "source": [
    "# Cuando el usuario hace una pregunta, tenemos que buscar en tus documentos (uv.es).\n",
    "\n",
    "# Hay dos maneras populares de buscar:\n",
    "\n",
    "# BM25 (sparse): busca por coincidencia de palabras. \n",
    "# Es muy bueno cuando la pregunta y el documento comparten las mismas palabras \n",
    "# (“matrícula”, “plazos”, “UV”).\n",
    "\n",
    "# Denso (embeddings): busca por significado. Aunque no coincidan las palabras exactas,\n",
    "#  encuentra textos semánticamente parecidos \n",
    "# (“inscripción” ≈ “matrícula”).\n",
    "\n",
    "# Problema: cada una falla donde la otra acierta. \n",
    "# La solución típica es combinar ambas para subir el recall sin perder precisión."
   ]
  },
  {
   "cell_type": "code",
   "execution_count": null,
   "id": "b2c7f8bc",
   "metadata": {},
   "outputs": [],
   "source": [
    "# ¿Qué es el híbrido BM25 + denso?\n",
    "\n",
    "# Lanzas dos búsquedas en paralelo:\n",
    "\n",
    "# una con BM25 (lista de documentos ordenados por relevancia textual),\n",
    "\n",
    "# otra con embeddings (lista ordenada por similitud semántica).\n",
    "\n",
    "# Luego fusionas ambas listas en una sola más robusta."
   ]
  },
  {
   "cell_type": "code",
   "execution_count": null,
   "id": "6630754b",
   "metadata": {},
   "outputs": [],
   "source": [
    "# Cómo se fusionan? — RRF (Reciprocal Rank Fusion)\n",
    "\n",
    "# RRF es una regla muy simple y muy efectiva para mezclar listas ordenadas.\n",
    "\n",
    "# Entrada:\n",
    "\n",
    "# Lista A (p.ej., BM25) que devuelve documentos con un rango: rank_A(d) = 1, 2, 3, … (1 = el mejor).\n",
    "\n",
    "# Lista B (p.ej., Denso) con su propio rango: rank_B(d) = 1, 2, 3, …\n",
    "\n",
    "# Fórmula (por documento d):\n",
    "\n",
    "# RRF_scoreangos(d) = 1 / (k + rank_A(d)) + 1 / (k + rank_B(d))\n",
    "\n",
    "# k es una constante (típicamente 60) para que las primeras posiciones cuenten más, pero sin que una sola lista domine.\n",
    "\n",
    "# Si un documento no aparece en una lista, lo tratamos como si tuviera un rango muy grande (o simplemente no suma por esa lista).\n",
    "\n",
    "# Intuición:\n",
    "\n",
    "# Un doc que sale muy arriba en cualquiera de las dos listas recibe un empujón grande (1/(k+1)).\n",
    "\n",
    "# Un doc que aparece medio en ambas también suma y puede superar a otros.\n",
    "\n",
    "# Es robusto: no necesitas calibrar scores ni normalizar probabilidades raras; solo rangos."
   ]
  }
 ],
 "metadata": {
  "language_info": {
   "name": "python"
  }
 },
 "nbformat": 4,
 "nbformat_minor": 5
}
